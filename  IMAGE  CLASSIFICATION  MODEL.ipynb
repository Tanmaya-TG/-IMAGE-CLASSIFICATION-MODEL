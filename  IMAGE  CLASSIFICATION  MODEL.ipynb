{
 "cells": [
  {
   "cell_type": "markdown",
   "id": "4b950102-e87b-4f5f-ae1b-f047ad539d04",
   "metadata": {},
   "source": [
    "## Importing required libraries"
   ]
  },
  {
   "cell_type": "code",
   "execution_count": 1,
   "id": "f5abff94-81e1-40a4-b409-d9c7034a22d2",
   "metadata": {},
   "outputs": [
    {
     "name": "stdout",
     "output_type": "stream",
     "text": [
      "WARNING:tensorflow:From C:\\Users\\Hp\\AppData\\Local\\Programs\\Python\\Python311\\Lib\\site-packages\\keras\\src\\losses.py:2976: The name tf.losses.sparse_softmax_cross_entropy is deprecated. Please use tf.compat.v1.losses.sparse_softmax_cross_entropy instead.\n",
      "\n"
     ]
    }
   ],
   "source": [
    "import tensorflow as tf\n",
    "from tensorflow.keras import datasets, layers, models\n",
    "import matplotlib.pyplot as plt\n",
    "import numpy as np\n",
    "\n",
    "import warnings\n",
    "warnings.filterwarnings('ignore')"
   ]
  },
  {
   "cell_type": "markdown",
   "id": "ad903d41-afac-49ee-980b-a51bb5a6d853",
   "metadata": {},
   "source": [
    "## Loading the dataset"
   ]
  },
  {
   "cell_type": "code",
   "execution_count": 2,
   "id": "8ecb3853-8eca-4c80-8788-90baca686508",
   "metadata": {},
   "outputs": [],
   "source": [
    "(X_train, y_train), (X_test,y_test) = datasets.cifar10.load_data()"
   ]
  },
  {
   "cell_type": "code",
   "execution_count": 3,
   "id": "1b7aad94-f3ea-4d82-9480-103201e293f7",
   "metadata": {},
   "outputs": [
    {
     "data": {
      "text/plain": [
       "(50000, 32, 32, 3)"
      ]
     },
     "execution_count": 3,
     "metadata": {},
     "output_type": "execute_result"
    }
   ],
   "source": [
    "X_train.shape"
   ]
  },
  {
   "cell_type": "code",
   "execution_count": 4,
   "id": "701caa99-9c27-425e-b181-efb7e5471916",
   "metadata": {},
   "outputs": [
    {
     "data": {
      "text/plain": [
       "(10000, 32, 32, 3)"
      ]
     },
     "execution_count": 4,
     "metadata": {},
     "output_type": "execute_result"
    }
   ],
   "source": [
    "X_test.shape"
   ]
  },
  {
   "cell_type": "raw",
   "id": "7ebc95c2-ae8a-447b-ae75-05b6b2104db1",
   "metadata": {},
   "source": [
    "- 50000 training images and 1000 test images"
   ]
  },
  {
   "cell_type": "code",
   "execution_count": 5,
   "id": "bce230dc-de3f-44aa-8fb9-27b513b76605",
   "metadata": {},
   "outputs": [
    {
     "data": {
      "text/plain": [
       "(50000, 1)"
      ]
     },
     "execution_count": 5,
     "metadata": {},
     "output_type": "execute_result"
    }
   ],
   "source": [
    "y_train.shape"
   ]
  },
  {
   "cell_type": "code",
   "execution_count": 6,
   "id": "67c6025b-db95-4b02-8096-e978b5715091",
   "metadata": {},
   "outputs": [
    {
     "data": {
      "text/plain": [
       "array([[6],\n",
       "       [9],\n",
       "       [9],\n",
       "       [4],\n",
       "       [1],\n",
       "       [1],\n",
       "       [2],\n",
       "       [7],\n",
       "       [8],\n",
       "       [3]], dtype=uint8)"
      ]
     },
     "execution_count": 6,
     "metadata": {},
     "output_type": "execute_result"
    }
   ],
   "source": [
    "y_train[:10]"
   ]
  },
  {
   "cell_type": "raw",
   "id": "a75705e6-4305-473a-9230-b6211e4abcfa",
   "metadata": {},
   "source": [
    "- y_train is a 2D array,for our classification having 1D array is good enough. \n",
    " so we will convert this to now 1D array"
   ]
  },
  {
   "cell_type": "code",
   "execution_count": 7,
   "id": "2b45c139-d5c5-428c-97d4-7cd4c3c4d463",
   "metadata": {},
   "outputs": [
    {
     "data": {
      "text/plain": [
       "array([6, 9, 9, 4, 1], dtype=uint8)"
      ]
     },
     "execution_count": 7,
     "metadata": {},
     "output_type": "execute_result"
    }
   ],
   "source": [
    "y_train = y_train.reshape(-1,)\n",
    "y_train[:5]"
   ]
  },
  {
   "cell_type": "code",
   "execution_count": 8,
   "id": "b9b4eb45-ca22-42ff-9184-6374ea644771",
   "metadata": {},
   "outputs": [],
   "source": [
    "y_test = y_test.reshape(-1,)"
   ]
  },
  {
   "cell_type": "code",
   "execution_count": 9,
   "id": "9dee2ec8-9002-465c-a17c-b8abd55a352f",
   "metadata": {},
   "outputs": [],
   "source": [
    "classes = [\"airplane\",\"automobile\",\"bird\",\"cat\",\"deer\",\"dog\",\"frog\",\"horse\",\"ship\",\"truck\"]"
   ]
  },
  {
   "cell_type": "code",
   "execution_count": 10,
   "id": "71026d74-06ea-48c3-be97-5f74be137f68",
   "metadata": {},
   "outputs": [],
   "source": [
    "#  plot some images to see what they are"
   ]
  },
  {
   "cell_type": "code",
   "execution_count": 11,
   "id": "cbdda9a4-f109-4cab-acf2-8ec31436a30d",
   "metadata": {},
   "outputs": [],
   "source": [
    "def plot_sample(X, y, index):\n",
    "    plt.figure(figsize = (15,2))\n",
    "    plt.imshow(X[index])\n",
    "    plt.xlabel(classes[y[index]])"
   ]
  },
  {
   "cell_type": "code",
   "execution_count": 12,
   "id": "53fbe854-c34e-4f78-8827-2e3caa59853c",
   "metadata": {},
   "outputs": [
    {
     "data": {
      "image/png": "[encoded data removed]",
      "text/plain": [
       "<Figure size 1500x200 with 1 Axes>"
      ]
     },
     "metadata": {},
     "output_type": "display_data"
    }
   ],
   "source": [
    "plot_sample(X_train, y_train, 0)"
   ]
  },
  {
   "cell_type": "code",
   "execution_count": 13,
   "id": "718c26e1-bf99-4d15-98b2-24a2b988da31",
   "metadata": {},
   "outputs": [
    {
     "data": {
      "image/png": "[encoded data removed]",
      "text/plain": [
       "<Figure size 1500x200 with 1 Axes>"
      ]
     },
     "metadata": {},
     "output_type": "display_data"
    }
   ],
   "source": [
    "plot_sample(X_train, y_train, 1)"
   ]
  },
  {
   "cell_type": "raw",
   "id": "912776f2-e779-4f86-b1eb-e2ef129efab1",
   "metadata": {},
   "source": [
    "- Normalize the images to a number from 0 to 1. \n",
    "- Image has 3 channels (R,G,B) and each value in the channel can range from 0 to 255. \n",
    "- Hence to normalize in 0-->1 range, we need to divide it by 255"
   ]
  },
  {
   "cell_type": "code",
   "execution_count": 14,
   "id": "34b15474-2215-458e-a809-9a3277b4b9ab",
   "metadata": {},
   "outputs": [],
   "source": [
    "#Normalizing the  data\n",
    "\n",
    "X_train = X_train / 255.0\n",
    "X_test = X_test / 255.0"
   ]
  },
  {
   "cell_type": "markdown",
   "id": "c0dbc401-91d8-4e41-92b5-7a5500b473ac",
   "metadata": {},
   "source": [
    "## Build a convolutional neural network to train our images"
   ]
  },
  {
   "cell_type": "code",
   "execution_count": 15,
   "id": "6b08a254-fa12-4165-9a25-1eb00311f0a2",
   "metadata": {},
   "outputs": [
    {
     "name": "stdout",
     "output_type": "stream",
     "text": [
      "WARNING:tensorflow:From C:\\Users\\Hp\\AppData\\Local\\Programs\\Python\\Python311\\Lib\\site-packages\\keras\\src\\backend.py:873: The name tf.get_default_graph is deprecated. Please use tf.compat.v1.get_default_graph instead.\n",
      "\n",
      "WARNING:tensorflow:From C:\\Users\\Hp\\AppData\\Local\\Programs\\Python\\Python311\\Lib\\site-packages\\keras\\src\\layers\\pooling\\max_pooling2d.py:161: The name tf.nn.max_pool is deprecated. Please use tf.nn.max_pool2d instead.\n",
      "\n"
     ]
    }
   ],
   "source": [
    "cnn = models.Sequential([\n",
    "    layers.Conv2D(filters=32, kernel_size=(3, 3), activation='relu', input_shape=(32, 32, 3)),\n",
    "    layers.MaxPooling2D((2, 2)),\n",
    "    \n",
    "    layers.Conv2D(filters=64, kernel_size=(3, 3), activation='relu'),\n",
    "    layers.MaxPooling2D((2, 2)),\n",
    "    \n",
    "    layers.Flatten(),\n",
    "    layers.Dense(64, activation='relu'),\n",
    "    layers.Dense(10, activation='softmax')\n",
    "])"
   ]
  },
  {
   "cell_type": "code",
   "execution_count": 16,
   "id": "202da7a5-1f71-496b-a39d-289cd2d38820",
   "metadata": {},
   "outputs": [
    {
     "name": "stdout",
     "output_type": "stream",
     "text": [
      "WARNING:tensorflow:From C:\\Users\\Hp\\AppData\\Local\\Programs\\Python\\Python311\\Lib\\site-packages\\keras\\src\\optimizers\\__init__.py:309: The name tf.train.Optimizer is deprecated. Please use tf.compat.v1.train.Optimizer instead.\n",
      "\n"
     ]
    }
   ],
   "source": [
    "cnn.compile(optimizer='adam',\n",
    "              loss='sparse_categorical_crossentropy',\n",
    "              metrics=['accuracy'])"
   ]
  },
  {
   "cell_type": "code",
   "execution_count": 17,
   "id": "ed258f7a-54b4-4328-a9fc-c4de1cf0f5af",
   "metadata": {},
   "outputs": [
    {
     "name": "stdout",
     "output_type": "stream",
     "text": [
      "Epoch 1/20\n",
      "WARNING:tensorflow:From C:\\Users\\Hp\\AppData\\Local\\Programs\\Python\\Python311\\Lib\\site-packages\\keras\\src\\utils\\tf_utils.py:492: The name tf.ragged.RaggedTensorValue is deprecated. Please use tf.compat.v1.ragged.RaggedTensorValue instead.\n",
      "\n",
      "WARNING:tensorflow:From C:\\Users\\Hp\\AppData\\Local\\Programs\\Python\\Python311\\Lib\\site-packages\\keras\\src\\engine\\base_layer_utils.py:384: The name tf.executing_eagerly_outside_functions is deprecated. Please use tf.compat.v1.executing_eagerly_outside_functions instead.\n",
      "\n",
      "1563/1563 [==============================] - 17s 10ms/step - loss: 1.4628 - accuracy: 0.4743\n",
      "Epoch 2/20\n",
      "1563/1563 [==============================] - 17s 11ms/step - loss: 1.1130 - accuracy: 0.6104\n",
      "Epoch 3/20\n",
      "1563/1563 [==============================] - 18s 11ms/step - loss: 0.9801 - accuracy: 0.6597\n",
      "Epoch 4/20\n",
      "1563/1563 [==============================] - 17s 11ms/step - loss: 0.8916 - accuracy: 0.6910\n",
      "Epoch 5/20\n",
      "1563/1563 [==============================] - 20s 13ms/step - loss: 0.8206 - accuracy: 0.7164\n",
      "Epoch 6/20\n",
      "1563/1563 [==============================] - 18s 11ms/step - loss: 0.7667 - accuracy: 0.7328\n",
      "Epoch 7/20\n",
      "1563/1563 [==============================] - 17s 11ms/step - loss: 0.7134 - accuracy: 0.7536\n",
      "Epoch 8/20\n",
      "1563/1563 [==============================] - 18s 11ms/step - loss: 0.6676 - accuracy: 0.7676\n",
      "Epoch 9/20\n",
      "1563/1563 [==============================] - 17s 11ms/step - loss: 0.6236 - accuracy: 0.7852\n",
      "Epoch 10/20\n",
      "1563/1563 [==============================] - 19s 12ms/step - loss: 0.5909 - accuracy: 0.7949\n",
      "Epoch 11/20\n",
      "1563/1563 [==============================] - 26s 16ms/step - loss: 0.5556 - accuracy: 0.8056\n",
      "Epoch 12/20\n",
      "1563/1563 [==============================] - 19s 12ms/step - loss: 0.5150 - accuracy: 0.8195\n",
      "Epoch 13/20\n",
      "1563/1563 [==============================] - 17s 11ms/step - loss: 0.4866 - accuracy: 0.8288\n",
      "Epoch 14/20\n",
      "1563/1563 [==============================] - 17s 11ms/step - loss: 0.4530 - accuracy: 0.8414\n",
      "Epoch 15/20\n",
      "1563/1563 [==============================] - 17s 11ms/step - loss: 0.4312 - accuracy: 0.8482\n",
      "Epoch 16/20\n",
      "1563/1563 [==============================] - 18s 11ms/step - loss: 0.3994 - accuracy: 0.8574\n",
      "Epoch 17/20\n",
      "1563/1563 [==============================] - 18s 11ms/step - loss: 0.3756 - accuracy: 0.8676\n",
      "Epoch 18/20\n",
      "1563/1563 [==============================] - 17s 11ms/step - loss: 0.3500 - accuracy: 0.8757\n",
      "Epoch 19/20\n",
      "1563/1563 [==============================] - 17s 11ms/step - loss: 0.3263 - accuracy: 0.8841\n",
      "Epoch 20/20\n",
      "1563/1563 [==============================] - 16s 10ms/step - loss: 0.3029 - accuracy: 0.8930\n"
     ]
    },
    {
     "data": {
      "text/plain": [
       "<keras.src.callbacks.History at 0x18c7b3d0090>"
      ]
     },
     "execution_count": 17,
     "metadata": {},
     "output_type": "execute_result"
    }
   ],
   "source": [
    "cnn.fit(X_train, y_train, epochs=20)"
   ]
  },
  {
   "cell_type": "code",
   "execution_count": 18,
   "id": "49da4090-8c77-4b99-83fd-9d0db98af6b7",
   "metadata": {},
   "outputs": [
    {
     "name": "stdout",
     "output_type": "stream",
     "text": [
      "313/313 [==============================] - 2s 5ms/step - loss: 1.3717 - accuracy: 0.6724\n"
     ]
    },
    {
     "data": {
      "text/plain": [
       "[1.3716561794281006, 0.6723999977111816]"
      ]
     },
     "execution_count": 18,
     "metadata": {},
     "output_type": "execute_result"
    }
   ],
   "source": [
    "cnn.evaluate(X_test,y_test)"
   ]
  },
  {
   "cell_type": "code",
   "execution_count": 19,
   "id": "431ea2b8-e324-45d5-bb90-f3eb0147ac4b",
   "metadata": {},
   "outputs": [
    {
     "name": "stdout",
     "output_type": "stream",
     "text": [
      "313/313 [==============================] - 2s 4ms/step\n"
     ]
    },
    {
     "data": {
      "text/plain": [
       "array([[1.1807717e-03, 1.7852199e-06, 5.5372147e-03, 9.5832193e-01,\n",
       "        3.4959307e-06, 3.3200059e-02, 5.9896411e-04, 2.1282090e-06,\n",
       "        1.1532821e-03, 3.2713865e-07],\n",
       "       [3.5358819e-06, 1.6758302e-05, 4.5914023e-12, 1.4331365e-16,\n",
       "        3.2593269e-16, 2.6388627e-21, 1.1401614e-17, 7.1629721e-21,\n",
       "        9.9997962e-01, 4.1301698e-11],\n",
       "       [1.4870663e-02, 6.6012979e-02, 2.9214929e-05, 4.1529122e-05,\n",
       "        7.2003626e-05, 1.8404822e-06, 3.1585614e-09, 3.0449899e-05,\n",
       "        4.4022876e-01, 4.7871265e-01],\n",
       "       [7.8012472e-01, 4.6357793e-05, 2.0877418e-01, 4.6635512e-05,\n",
       "        1.7512033e-05, 5.0152926e-09, 1.1340727e-06, 8.9546961e-07,\n",
       "        1.0988497e-02, 8.9642738e-09],\n",
       "       [3.2007685e-11, 6.6622562e-04, 5.9571243e-03, 1.0467172e-02,\n",
       "        8.7889344e-01, 7.5178737e-05, 1.0393557e-01, 2.1164681e-06,\n",
       "        1.0174681e-06, 2.1867947e-06],\n",
       "       [6.0849750e-08, 2.9883977e-06, 1.7645434e-02, 1.0845149e-03,\n",
       "        4.3496815e-03, 1.0180554e-02, 9.6543479e-01, 1.2925015e-03,\n",
       "        1.7024075e-07, 9.3167855e-06],\n",
       "       [1.9821644e-07, 9.4804895e-01, 4.6456657e-06, 1.5740518e-03,\n",
       "        2.1515862e-13, 5.0170578e-02, 3.9698111e-06, 1.9041798e-05,\n",
       "        3.2692013e-10, 1.7854887e-04],\n",
       "       [5.0800176e-05, 5.0364184e-09, 8.1060404e-01, 2.0119586e-04,\n",
       "        1.8660855e-02, 2.9338114e-05, 1.7020594e-01, 2.2733079e-04,\n",
       "        1.7783086e-05, 2.7640851e-06],\n",
       "       [7.5692646e-03, 9.5906827e-08, 2.3484990e-04, 8.7386119e-01,\n",
       "        1.0240406e-02, 8.9924030e-02, 8.1741520e-05, 1.8087767e-02,\n",
       "        6.4863337e-07, 3.6974297e-09],\n",
       "       [8.3734741e-04, 9.9686676e-01, 4.5455163e-06, 5.8614087e-06,\n",
       "        7.2405310e-06, 8.4755225e-10, 1.2955924e-07, 3.5105055e-07,\n",
       "        1.6634634e-03, 6.1424018e-04]], dtype=float32)"
      ]
     },
     "execution_count": 19,
     "metadata": {},
     "output_type": "execute_result"
    }
   ],
   "source": [
    "y_pred = cnn.predict(X_test)\n",
    "y_pred[:10]"
   ]
  },
  {
   "cell_type": "code",
   "execution_count": 20,
   "id": "fd6e87e7-12e5-4b8a-bf16-6b232f8b9a1c",
   "metadata": {},
   "outputs": [
    {
     "data": {
      "text/plain": [
       "[3, 8, 9, 0, 4]"
      ]
     },
     "execution_count": 20,
     "metadata": {},
     "output_type": "execute_result"
    }
   ],
   "source": [
    "y_classes = [np.argmax(element) for element in y_pred]\n",
    "y_classes[:5]"
   ]
  },
  {
   "cell_type": "code",
   "execution_count": 21,
   "id": "2099fbff-f0df-4eac-97c1-b99983caef93",
   "metadata": {},
   "outputs": [
    {
     "data": {
      "text/plain": [
       "array([3, 8, 8, 0, 6], dtype=uint8)"
      ]
     },
     "execution_count": 21,
     "metadata": {},
     "output_type": "execute_result"
    }
   ],
   "source": [
    "y_test[:5]"
   ]
  },
  {
   "cell_type": "code",
   "execution_count": 22,
   "id": "cd6abaac-4da0-4715-b703-ace0a9552b57",
   "metadata": {},
   "outputs": [
    {
     "data": {
      "image/png": "[encoded data removed]",
      "text/plain": [
       "<Figure size 1500x200 with 1 Axes>"
      ]
     },
     "metadata": {},
     "output_type": "display_data"
    }
   ],
   "source": [
    "plot_sample(X_test, y_test,3)"
   ]
  },
  {
   "cell_type": "code",
   "execution_count": 23,
   "id": "671157d2-273f-47ec-a054-81d822f06f71",
   "metadata": {},
   "outputs": [
    {
     "data": {
      "image/png": "[encoded data removed]",
      "text/plain": [
       "<Figure size 1500x200 with 1 Axes>"
      ]
     },
     "metadata": {},
     "output_type": "display_data"
    }
   ],
   "source": [
    "plot_sample(X_test, y_test,8)"
   ]
  },
  {
   "cell_type": "code",
   "execution_count": 24,
   "id": "d61c63a0-189e-448f-80c6-1e95f5eb669a",
   "metadata": {},
   "outputs": [
    {
     "data": {
      "image/png": "[encoded data removed]",
      "text/plain": [
       "<Figure size 1500x200 with 1 Axes>"
      ]
     },
     "metadata": {},
     "output_type": "display_data"
    }
   ],
   "source": [
    "plot_sample(X_test, y_test,20)"
   ]
  },
  {
   "cell_type": "code",
   "execution_count": 25,
   "id": "d72a9831-915f-4331-8f04-8075676751eb",
   "metadata": {},
   "outputs": [
    {
     "data": {
      "image/png": "[encoded data removed]",
      "text/plain": [
       "<Figure size 1500x200 with 1 Axes>"
      ]
     },
     "metadata": {},
     "output_type": "display_data"
    }
   ],
   "source": [
    "plot_sample(X_test, y_test,30)"
   ]
  },
  {
   "cell_type": "code",
   "execution_count": 26,
   "id": "a9854b5f-83d6-4b0b-89ba-b1cc7ff13852",
   "metadata": {},
   "outputs": [
    {
     "data": {
      "image/png": "[encoded data removed]",
      "text/plain": [
       "<Figure size 1500x200 with 1 Axes>"
      ]
     },
     "metadata": {},
     "output_type": "display_data"
    }
   ],
   "source": [
    "plot_sample(X_test, y_test,50)"
   ]
  },
  {
   "cell_type": "markdown",
   "id": "2f6018a0-7fd6-492b-9e4a-0852c047e402",
   "metadata": {},
   "source": [
    "# Conclusion"
   ]
  },
  {
   "cell_type": "raw",
   "id": "4e624148-37f8-494b-b199-fec1a6f862b3",
   "metadata": {},
   "source": [
    "1. With CNN, at the end 20 epochs, accuracy was at around 90% which is a significant. \n",
    "2.CNN's are best for image classification and gives superb accuracy. Also computation is much less compared to simple ANN as maxpooling reduces the image dimensions while still preserving the features."
   ]
  },
  {
   "cell_type": "code",
   "execution_count": null,
   "id": "f020a2bd-e6e9-45d3-80bf-d9f89c67f1d6",
   "metadata": {},
   "outputs": [],
   "source": []
  }
 ],
 "metadata": {
  "kernelspec": {
   "display_name": "Python 3 (ipykernel)",
   "language": "python",
   "name": "python3"
  },
  "language_info": {
   "codemirror_mode": {
    "name": "ipython",
    "version": 3
   },
   "file_extension": ".py",
   "mimetype": "text/x-python",
   "name": "python",
   "nbconvert_exporter": "python",
   "pygments_lexer": "ipython3",
   "version": "3.11.4"
  }
 },
 "nbformat": 4,
 "nbformat_minor": 5
}
